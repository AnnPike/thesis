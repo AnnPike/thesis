{
 "cells": [
  {
   "cell_type": "code",
   "execution_count": 1,
   "id": "7059e86d-0029-4117-bbb3-c104bef13d2f",
   "metadata": {},
   "outputs": [],
   "source": [
    "import numpy as np\n",
    "from mprod import  m_prod\n",
    "from mprod import  generate_haar, generate_dct, x_m3\n",
    "from scipy.stats import ortho_group\n",
    "from scipy.fft import dct, idct, rfft, irfft"
   ]
  },
  {
   "cell_type": "code",
   "execution_count": 2,
   "id": "3f062fe7-0a28-40ba-a8d6-39c9211cccff",
   "metadata": {},
   "outputs": [],
   "source": [
    "m, n = 100, 10\n",
    "shape = (m, n)\n",
    "np.random.seed(42)\n",
    "\n",
    "R = np.random.uniform(-1, 1, shape).reshape(m, 1, n)\n",
    "I = np.random.uniform(-1, 1, shape).reshape(m, 1, n)\n",
    "A = R+ 1.j * I"
   ]
  },
  {
   "cell_type": "code",
   "execution_count": 3,
   "id": "c67e568e-fc95-4c74-a477-ab75812f50c7",
   "metadata": {},
   "outputs": [
    {
     "data": {
      "text/plain": [
       "(100, 1, 10)"
      ]
     },
     "execution_count": 3,
     "metadata": {},
     "output_type": "execute_result"
    }
   ],
   "source": [
    "A.shape"
   ]
  },
  {
   "cell_type": "code",
   "execution_count": 5,
   "id": "dfeeec1b-670a-4bde-851c-20776d8fbb92",
   "metadata": {},
   "outputs": [],
   "source": [
    "def tensor_hermit(tensor):\n",
    "    m, p, n = tensor.shape\n",
    "    Rtensor = tensor.real\n",
    "    Itensor = tensor.imag\n",
    "    hermitian_tensor = np.empty((p,m,n), dtype=np.csingle)\n",
    "    for d in range(n):\n",
    "        hermitian_tensor[:,:,d] = Rtensor[:,:,d].T - 1.j * Itensor[:,:,d].T\n",
    "    \n",
    "    return hermitian_tensor"
   ]
  },
  {
   "cell_type": "code",
   "execution_count": 6,
   "id": "fc1705db-3c79-47a8-afb5-0d52ab65a7c5",
   "metadata": {},
   "outputs": [
    {
     "name": "stdout",
     "output_type": "stream",
     "text": [
      "(100, 1, 10)\n",
      "(1, 100, 10)\n"
     ]
    }
   ],
   "source": [
    "A_H = tensor_hermit(A)\n",
    "print(A.shape)\n",
    "print(A_H.shape)"
   ]
  },
  {
   "cell_type": "code",
   "execution_count": null,
   "id": "e13cd978-f221-46d4-9adc-d2752af1b90a",
   "metadata": {},
   "outputs": [
    {
     "data": {
      "text/plain": [
       "array([[-0.25091976+0.62973416j,  0.90142864-0.0838019j ,\n",
       "         0.4639879 -0.7458917j ,  0.19731697-0.46444976j,\n",
       "        -0.6879627 -0.6131223j , -0.68801093-0.31756672j,\n",
       "        -0.88383275-0.38455313j,  0.7323523 -0.6983913j ,\n",
       "         0.20223002+0.500664j  ,  0.41614515+0.02115007j]],\n",
       "      dtype=complex64)"
      ]
     },
     "execution_count": 8,
     "metadata": {},
     "output_type": "execute_result"
    }
   ],
   "source": [
    "A_H[:,0]"
   ]
  },
  {
   "cell_type": "code",
   "execution_count": 9,
   "id": "8017f500-51f5-4f71-a08c-ab39a109c36a",
   "metadata": {},
   "outputs": [],
   "source": [
    "funM, invM = generate_haar(n, random_state=21)"
   ]
  },
  {
   "cell_type": "code",
   "execution_count": null,
   "id": "24967d98-c907-4cab-9e12-21add900487f",
   "metadata": {},
   "outputs": [
    {
     "data": {
      "text/plain": [
       "array([[[66.05192715, 65.56827073, 57.91509212, 72.73006634,\n",
       "         59.04925305, 70.54821916, 68.99981625, 75.5851514 ,\n",
       "         71.80348141, 74.51924321]]])"
      ]
     },
     "execution_count": 10,
     "metadata": {},
     "output_type": "execute_result"
    }
   ],
   "source": [
    "funM(m_prod(A_H, A, funM, invM)).real"
   ]
  },
  {
   "cell_type": "code",
   "execution_count": null,
   "id": "dc713fee-3dd7-4137-a1b0-9ed5c065b332",
   "metadata": {},
   "outputs": [
    {
     "data": {
      "text/plain": [
       "array([[[ 9.58427889e-08, -1.10931771e-08,  1.96089945e-07,\n",
       "          8.02648579e-08, -9.59434035e-08,  4.41943619e-08,\n",
       "         -1.64936129e-07, -1.00774381e-07,  2.19106113e-07,\n",
       "          1.79103076e-08]]])"
      ]
     },
     "execution_count": 11,
     "metadata": {},
     "output_type": "execute_result"
    }
   ],
   "source": [
    "funM(m_prod(A_H, A, funM, invM)).imag"
   ]
  },
  {
   "cell_type": "markdown",
   "id": "186750a2-2554-4f20-b12d-3c2e1a991beb",
   "metadata": {},
   "source": [
    "## to lessen numercal error I am constracting m_prod_H function where I use algebraic formula $(a+b)(a-b)=a^2-b^2$, then $(a+ib)(a-ib)=a^2+b^2$"
   ]
  },
  {
   "cell_type": "code",
   "execution_count": 12,
   "id": "32077acf-60db-4820-ae1f-4f1f8355121a",
   "metadata": {},
   "outputs": [],
   "source": [
    "def m_prod_H(tensor, funM, invM):\n",
    "    tensor_hat = funM(tensor)\n",
    "    tensor_hat_H = tensor_hermit(tensor_hat)\n",
    "    real_square = np.einsum('mpi,pli->mli', tensor_hat_H.real, tensor_hat.real)\n",
    "    imag_square = -np.einsum('mpi,pli->mli', tensor_hat_H.imag, tensor_hat.imag)\n",
    "    prod_M_hat = real_square+imag_square\n",
    "    return invM(prod_M_hat)"
   ]
  },
  {
   "cell_type": "code",
   "execution_count": 13,
   "id": "ffc906be-f45e-4a3a-9554-4504d729d2a9",
   "metadata": {},
   "outputs": [
    {
     "data": {
      "text/plain": [
       "array([[[ True,  True,  True,  True,  True,  True,  True,  True,  True,\n",
       "          True]]])"
      ]
     },
     "execution_count": 13,
     "metadata": {},
     "output_type": "execute_result"
    }
   ],
   "source": [
    "funM(m_prod_H(A, funM, invM))>0"
   ]
  },
  {
   "cell_type": "code",
   "execution_count": 14,
   "id": "3d7b125a-d96a-46db-80fb-9101dff4a7b7",
   "metadata": {},
   "outputs": [
    {
     "data": {
      "text/plain": [
       "(1, 1, 10)"
      ]
     },
     "execution_count": 14,
     "metadata": {},
     "output_type": "execute_result"
    }
   ],
   "source": [
    "funM(m_prod_H(A, funM, invM)).shape"
   ]
  },
  {
   "cell_type": "code",
   "execution_count": 15,
   "id": "80fb3e6a-a305-4efe-ba60-f2fa2b9275fb",
   "metadata": {},
   "outputs": [],
   "source": [
    "def T_norm(matrix_v, funM, invM):\n",
    "    tuple_sq = funM(m_prod_H(matrix_v, funM, invM)).squeeze()\n",
    "    frob_norm = np.sqrt(np.sum(tuple_sq))\n",
    "    return frob_norm"
   ]
  },
  {
   "cell_type": "code",
   "execution_count": 16,
   "id": "c21807f8-eb9a-4037-9350-b6a35abd5c36",
   "metadata": {},
   "outputs": [],
   "source": [
    "def frob_norm_complex(tensor):\n",
    "    return np.sqrt(np.sum(tensor.real**2+tensor.imag**2))"
   ]
  },
  {
   "cell_type": "code",
   "execution_count": 17,
   "id": "c13dfa39-0ad0-4107-a381-22f9fa749483",
   "metadata": {},
   "outputs": [
    {
     "data": {
      "text/plain": [
       "26.129877932029803"
      ]
     },
     "execution_count": 17,
     "metadata": {},
     "output_type": "execute_result"
    }
   ],
   "source": [
    "T_norm(A, funM, invM)"
   ]
  },
  {
   "cell_type": "code",
   "execution_count": 18,
   "id": "0cc1f4a1-ab12-407c-b681-5c84be7bbcf7",
   "metadata": {},
   "outputs": [
    {
     "data": {
      "text/plain": [
       "26.129877933562025"
      ]
     },
     "execution_count": 18,
     "metadata": {},
     "output_type": "execute_result"
    }
   ],
   "source": [
    "frob_norm_complex(A)"
   ]
  },
  {
   "cell_type": "markdown",
   "id": "f2952517-0430-49d4-950a-4f228528cc07",
   "metadata": {},
   "source": [
    "# numericaly these norms are equal"
   ]
  }
 ],
 "metadata": {
  "kernelspec": {
   "display_name": "Python 3 (ipykernel)",
   "language": "python",
   "name": "python3"
  },
  "language_info": {
   "codemirror_mode": {
    "name": "ipython",
    "version": 3
   },
   "file_extension": ".py",
   "mimetype": "text/x-python",
   "name": "python",
   "nbconvert_exporter": "python",
   "pygments_lexer": "ipython3",
   "version": "3.8.10"
  }
 },
 "nbformat": 4,
 "nbformat_minor": 5
}
